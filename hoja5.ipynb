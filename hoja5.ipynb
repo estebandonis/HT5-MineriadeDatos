{
 "cells": [
  {
   "cell_type": "code",
   "execution_count": 214,
   "metadata": {},
   "outputs": [],
   "source": [
    "%matplotlib inline\n",
    "import matplotlib.pyplot as plt\n",
    "import numpy as np\n",
    "import random\n",
    "import statsmodels.api as sm\n",
    "import statsmodels.stats.diagnostic as smd\n",
    "import pandas as pd\n",
    "from sklearn import datasets\n",
    "from sklearn.model_selection import train_test_split\n",
    "import seaborn as sns\n",
    "import statsmodels.api as sm\n",
    "import scipy.stats as stats\n",
    "import statsmodels.stats.diagnostic as diag\n",
    "from sklearn.naive_bayes import GaussianNB\n",
    "#Metrics\n",
    "from sklearn.metrics import make_scorer, accuracy_score,precision_score,recall_score,f1_score\n",
    "from sklearn.metrics import classification_report\n",
    "from sklearn.metrics import confusion_matrix\n",
    "from sklearn.metrics import root_mean_squared_error\n",
    "from sklearn.compose import make_column_selector as selector\n",
    "from sklearn.compose import ColumnTransformer\n",
    "from sklearn.preprocessing import StandardScaler\n",
    "from sklearn.preprocessing import OneHotEncoder\n",
    "from sklearn.pipeline import Pipeline\n",
    "from sklearn.model_selection import GridSearchCV\n",
    "\n",
    "plt.rcParams['figure.figsize'] = (15, 9)\n",
    "plt.style.use('ggplot')\n",
    "random.seed(123)"
   ]
  },
  {
   "cell_type": "code",
   "execution_count": 215,
   "metadata": {},
   "outputs": [],
   "source": [
    "houses_df = pd.read_csv('train.csv')"
   ]
  },
  {
   "cell_type": "code",
   "execution_count": 216,
   "metadata": {},
   "outputs": [
    {
     "name": "stdout",
     "output_type": "stream",
     "text": [
      "LotFrontage      259\n",
      "Alley           1369\n",
      "MasVnrType         8\n",
      "MasVnrArea         8\n",
      "BsmtQual          37\n",
      "BsmtCond          37\n",
      "BsmtExposure      38\n",
      "BsmtFinType1      37\n",
      "BsmtFinType2      38\n",
      "Electrical         1\n",
      "FireplaceQu      690\n",
      "GarageType        81\n",
      "GarageYrBlt       81\n",
      "GarageFinish      81\n",
      "GarageQual        81\n",
      "GarageCond        81\n",
      "PoolQC          1453\n",
      "Fence           1179\n",
      "MiscFeature     1406\n",
      "dtype: int64\n"
     ]
    }
   ],
   "source": [
    "null_counts = houses_df.isnull().sum()\n",
    "# print(null_counts)\n",
    "null_counts = null_counts[null_counts > 0]\n",
    "print(null_counts)"
   ]
  },
  {
   "cell_type": "code",
   "execution_count": 217,
   "metadata": {},
   "outputs": [
    {
     "name": "stdout",
     "output_type": "stream",
     "text": [
      "LotFrontage\n",
      "Alley\n",
      "MasVnrType\n",
      "MasVnrArea\n",
      "BsmtQual\n",
      "BsmtCond\n",
      "BsmtExposure\n",
      "BsmtFinType1\n",
      "BsmtFinType2\n",
      "Electrical\n",
      "FireplaceQu\n",
      "GarageType\n",
      "GarageYrBlt\n",
      "GarageFinish\n",
      "GarageQual\n",
      "GarageCond\n",
      "PoolQC\n",
      "Fence\n",
      "MiscFeature\n"
     ]
    }
   ],
   "source": [
    "for i in null_counts.index:\n",
    "    print(i)\n",
    "    houses_df = houses_df.apply(pd.to_numeric, errors='coerce')\n",
    "    houses_df = houses_df.fillna(0)"
   ]
  },
  {
   "cell_type": "code",
   "execution_count": 218,
   "metadata": {},
   "outputs": [
    {
     "data": {
      "text/plain": [
       "<Axes: >"
      ]
     },
     "execution_count": 218,
     "metadata": {},
     "output_type": "execute_result"
    },
    {
     "data": {
      "image/png": "[encoded data removed]",
      "text/plain": [
       "<Figure size 1500x900 with 1 Axes>"
      ]
     },
     "metadata": {},
     "output_type": "display_data"
    }
   ],
   "source": [
    "houses_df[[\"SalePrice\"]].boxplot()"
   ]
  },
  {
   "cell_type": "code",
   "execution_count": 219,
   "metadata": {},
   "outputs": [],
   "source": [
    "houses_df = houses_df[houses_df[\"SalePrice\"] < 700000]\n",
    "houses_df = houses_df[houses_df[\"LotArea\"] < 100000]"
   ]
  },
  {
   "cell_type": "code",
   "execution_count": 220,
   "metadata": {},
   "outputs": [],
   "source": [
    "# Define the target\n",
    "y = houses_df.pop('SalePrice')\n",
    "\n",
    "# Remove the target from the current DataFrame\n",
    "X = houses_df\n",
    "random.seed(1234)"
   ]
  },
  {
   "cell_type": "code",
   "execution_count": 221,
   "metadata": {},
   "outputs": [],
   "source": [
    "\n",
    "X_train, X_test,y_train, y_test = train_test_split(X, y,test_size=0.3,train_size=0.7)"
   ]
  },
  {
   "cell_type": "code",
   "execution_count": 222,
   "metadata": {},
   "outputs": [],
   "source": [
    "numerical_columns_selector = selector(dtype_exclude=object)\n",
    "categorical_columns_selector = selector(dtype_include=object)\n",
    "\n",
    "numerical_columns = numerical_columns_selector(houses_df)\n",
    "categorical_columns = categorical_columns_selector(houses_df)"
   ]
  },
  {
   "cell_type": "code",
   "execution_count": 223,
   "metadata": {},
   "outputs": [],
   "source": [
    "categorical_preprocessor = OneHotEncoder(handle_unknown=\"ignore\")\n",
    "numerical_preprocessor = StandardScaler()\n",
    "preprocessor = ColumnTransformer([\n",
    "    ('one-hot-encoder', categorical_preprocessor, categorical_columns),\n",
    "    ('standar-scaler', numerical_preprocessor,numerical_columns)\n",
    "    ])"
   ]
  },
  {
   "cell_type": "code",
   "execution_count": 224,
   "metadata": {},
   "outputs": [
    {
     "data": {
      "text/plain": [
       "{'memory': None,\n",
       " 'steps': [('preprocessor',\n",
       "   ColumnTransformer(transformers=[('one-hot-encoder',\n",
       "                                    OneHotEncoder(handle_unknown='ignore'), []),\n",
       "                                   ('standar-scaler', StandardScaler(),\n",
       "                                    ['Id', 'MSSubClass', 'MSZoning', 'LotFrontage',\n",
       "                                     'LotArea', 'Street', 'Alley', 'LotShape',\n",
       "                                     'LandContour', 'Utilities', 'LotConfig',\n",
       "                                     'LandSlope', 'Neighborhood', 'Condition1',\n",
       "                                     'Condition2', 'BldgType', 'HouseStyle',\n",
       "                                     'OverallQual', 'OverallCond', 'YearBuilt',\n",
       "                                     'YearRemodAdd', 'RoofStyle', 'RoofMatl',\n",
       "                                     'Exterior1st', 'Exterior2nd', 'MasVnrType',\n",
       "                                     'MasVnrArea', 'ExterQual', 'ExterCond',\n",
       "                                     'Foundation', ...])])),\n",
       "  ('regressor', GaussianNB())],\n",
       " 'verbose': False,\n",
       " 'preprocessor': ColumnTransformer(transformers=[('one-hot-encoder',\n",
       "                                  OneHotEncoder(handle_unknown='ignore'), []),\n",
       "                                 ('standar-scaler', StandardScaler(),\n",
       "                                  ['Id', 'MSSubClass', 'MSZoning', 'LotFrontage',\n",
       "                                   'LotArea', 'Street', 'Alley', 'LotShape',\n",
       "                                   'LandContour', 'Utilities', 'LotConfig',\n",
       "                                   'LandSlope', 'Neighborhood', 'Condition1',\n",
       "                                   'Condition2', 'BldgType', 'HouseStyle',\n",
       "                                   'OverallQual', 'OverallCond', 'YearBuilt',\n",
       "                                   'YearRemodAdd', 'RoofStyle', 'RoofMatl',\n",
       "                                   'Exterior1st', 'Exterior2nd', 'MasVnrType',\n",
       "                                   'MasVnrArea', 'ExterQual', 'ExterCond',\n",
       "                                   'Foundation', ...])]),\n",
       " 'regressor': GaussianNB(),\n",
       " 'preprocessor__n_jobs': None,\n",
       " 'preprocessor__remainder': 'drop',\n",
       " 'preprocessor__sparse_threshold': 0.3,\n",
       " 'preprocessor__transformer_weights': None,\n",
       " 'preprocessor__transformers': [('one-hot-encoder',\n",
       "   OneHotEncoder(handle_unknown='ignore'),\n",
       "   []),\n",
       "  ('standar-scaler',\n",
       "   StandardScaler(),\n",
       "   ['Id',\n",
       "    'MSSubClass',\n",
       "    'MSZoning',\n",
       "    'LotFrontage',\n",
       "    'LotArea',\n",
       "    'Street',\n",
       "    'Alley',\n",
       "    'LotShape',\n",
       "    'LandContour',\n",
       "    'Utilities',\n",
       "    'LotConfig',\n",
       "    'LandSlope',\n",
       "    'Neighborhood',\n",
       "    'Condition1',\n",
       "    'Condition2',\n",
       "    'BldgType',\n",
       "    'HouseStyle',\n",
       "    'OverallQual',\n",
       "    'OverallCond',\n",
       "    'YearBuilt',\n",
       "    'YearRemodAdd',\n",
       "    'RoofStyle',\n",
       "    'RoofMatl',\n",
       "    'Exterior1st',\n",
       "    'Exterior2nd',\n",
       "    'MasVnrType',\n",
       "    'MasVnrArea',\n",
       "    'ExterQual',\n",
       "    'ExterCond',\n",
       "    'Foundation',\n",
       "    'BsmtQual',\n",
       "    'BsmtCond',\n",
       "    'BsmtExposure',\n",
       "    'BsmtFinType1',\n",
       "    'BsmtFinSF1',\n",
       "    'BsmtFinType2',\n",
       "    'BsmtFinSF2',\n",
       "    'BsmtUnfSF',\n",
       "    'TotalBsmtSF',\n",
       "    'Heating',\n",
       "    'HeatingQC',\n",
       "    'CentralAir',\n",
       "    'Electrical',\n",
       "    '1stFlrSF',\n",
       "    '2ndFlrSF',\n",
       "    'LowQualFinSF',\n",
       "    'GrLivArea',\n",
       "    'BsmtFullBath',\n",
       "    'BsmtHalfBath',\n",
       "    'FullBath',\n",
       "    'HalfBath',\n",
       "    'BedroomAbvGr',\n",
       "    'KitchenAbvGr',\n",
       "    'KitchenQual',\n",
       "    'TotRmsAbvGrd',\n",
       "    'Functional',\n",
       "    'Fireplaces',\n",
       "    'FireplaceQu',\n",
       "    'GarageType',\n",
       "    'GarageYrBlt',\n",
       "    'GarageFinish',\n",
       "    'GarageCars',\n",
       "    'GarageArea',\n",
       "    'GarageQual',\n",
       "    'GarageCond',\n",
       "    'PavedDrive',\n",
       "    'WoodDeckSF',\n",
       "    'OpenPorchSF',\n",
       "    'EnclosedPorch',\n",
       "    '3SsnPorch',\n",
       "    'ScreenPorch',\n",
       "    'PoolArea',\n",
       "    'PoolQC',\n",
       "    'Fence',\n",
       "    'MiscFeature',\n",
       "    'MiscVal',\n",
       "    'MoSold',\n",
       "    'YrSold',\n",
       "    'SaleType',\n",
       "    'SaleCondition'])],\n",
       " 'preprocessor__verbose': False,\n",
       " 'preprocessor__verbose_feature_names_out': True,\n",
       " 'preprocessor__one-hot-encoder': OneHotEncoder(handle_unknown='ignore'),\n",
       " 'preprocessor__standar-scaler': StandardScaler(),\n",
       " 'preprocessor__one-hot-encoder__categories': 'auto',\n",
       " 'preprocessor__one-hot-encoder__drop': None,\n",
       " 'preprocessor__one-hot-encoder__dtype': numpy.float64,\n",
       " 'preprocessor__one-hot-encoder__feature_name_combiner': 'concat',\n",
       " 'preprocessor__one-hot-encoder__handle_unknown': 'ignore',\n",
       " 'preprocessor__one-hot-encoder__max_categories': None,\n",
       " 'preprocessor__one-hot-encoder__min_frequency': None,\n",
       " 'preprocessor__one-hot-encoder__sparse_output': True,\n",
       " 'preprocessor__standar-scaler__copy': True,\n",
       " 'preprocessor__standar-scaler__with_mean': True,\n",
       " 'preprocessor__standar-scaler__with_std': True,\n",
       " 'regressor__priors': None,\n",
       " 'regressor__var_smoothing': 1e-09}"
      ]
     },
     "execution_count": 224,
     "metadata": {},
     "output_type": "execute_result"
    }
   ],
   "source": [
    "#param_grid = {\"max_depth\": np.arange(2, 10, 1)}\n",
    "pipeline = Pipeline(\n",
    "    [('preprocessor',preprocessor),\n",
    "     ('regressor',GaussianNB())])\n",
    "#params = [{\n",
    "#    \"regressor__max_depth\": np.arange(2, 10, 1)\n",
    "#}]\n",
    "pipeline.get_params()"
   ]
  },
  {
   "cell_type": "code",
   "execution_count": 225,
   "metadata": {},
   "outputs": [
    {
     "data": {
      "text/plain": [
       "48638.19561748241"
      ]
     },
     "execution_count": 225,
     "metadata": {},
     "output_type": "execute_result"
    }
   ],
   "source": [
    "modelo = pipeline.fit(X_train,y_train)\n",
    "y_pred = modelo.predict(X_test)\n",
    "rmse = root_mean_squared_error(y_test,y_pred)\n",
    "rmse"
   ]
  },
  {
   "cell_type": "code",
   "execution_count": 226,
   "metadata": {},
   "outputs": [
    {
     "name": "stderr",
     "output_type": "stream",
     "text": [
      "/Library/Frameworks/Python.framework/Versions/3.11/lib/python3.11/site-packages/sklearn/model_selection/_split.py:737: UserWarning: The least populated class in y has only 1 members, which is less than n_splits=5.\n",
      "  warnings.warn(\n"
     ]
    },
    {
     "data": {
      "text/plain": [
       "{'regressor__var_smoothing': 1.0}"
      ]
     },
     "execution_count": 226,
     "metadata": {},
     "output_type": "execute_result"
    }
   ],
   "source": [
    "params =  [{\n",
    "    \"regressor__var_smoothing\": np.logspace(0,-9, num=100)\n",
    "}]\n",
    "modelo = GridSearchCV(pipeline,param_grid=params,n_jobs=2, cv=5,scoring=\"neg_root_mean_squared_error\")\n",
    "modelo.fit(X_train,y_train)\n",
    "modelo.best_params_"
   ]
  },
  {
   "cell_type": "code",
   "execution_count": 227,
   "metadata": {},
   "outputs": [
    {
     "name": "stdout",
     "output_type": "stream",
     "text": [
      "Pipeline(steps=[('preprocessor',\n",
      "                 ColumnTransformer(transformers=[('one-hot-encoder',\n",
      "                                                  OneHotEncoder(handle_unknown='ignore'),\n",
      "                                                  []),\n",
      "                                                 ('standar-scaler',\n",
      "                                                  StandardScaler(),\n",
      "                                                  ['Id', 'MSSubClass',\n",
      "                                                   'MSZoning', 'LotFrontage',\n",
      "                                                   'LotArea', 'Street', 'Alley',\n",
      "                                                   'LotShape', 'LandContour',\n",
      "                                                   'Utilities', 'LotConfig',\n",
      "                                                   'LandSlope', 'Neighborhood',\n",
      "                                                   'Condition1', 'Condition2',\n",
      "                                                   'BldgType', 'HouseStyle',\n",
      "                                                   'OverallQual', 'OverallCond',\n",
      "                                                   'YearBuilt', 'YearRemodAdd',\n",
      "                                                   'RoofStyle', 'RoofMatl',\n",
      "                                                   'Exterior1st', 'Exterior2nd',\n",
      "                                                   'MasVnrType', 'MasVnrArea',\n",
      "                                                   'ExterQual', 'ExterCond',\n",
      "                                                   'Foundation', ...])])),\n",
      "                ('regressor', GaussianNB(var_smoothing=1.0))])\n",
      "best score:\n",
      "-42829.0812862873\n"
     ]
    }
   ],
   "source": [
    "print(modelo.best_estimator_)\n",
    "print('best score:')\n",
    "print(modelo.best_score_)\n",
    "y_mejor_pred = modelo.best_estimator_.predict(X_test)"
   ]
  },
  {
   "cell_type": "code",
   "execution_count": 228,
   "metadata": {},
   "outputs": [
    {
     "name": "stdout",
     "output_type": "stream",
     "text": [
      "Valor mínimo:  34900\n",
      "Valor máximo:  625000\n",
      "Desviación estándar:  76434.20276151803\n",
      "Valor RMSE:  38975.10918484067\n"
     ]
    }
   ],
   "source": [
    "minimo = y.min()\n",
    "print(\"Valor mínimo: \", minimo)\n",
    "maximo = y.max()\n",
    "print(\"Valor máximo: \", maximo)\n",
    "\n",
    "std_dev = np.std(y)\n",
    "print(\"Desviación estándar: \", std_dev)\n",
    "\n",
    "rmse_tunned = root_mean_squared_error(y_test,y_mejor_pred)\n",
    "print(\"Valor RMSE: \", rmse_tunned)"
   ]
  }
 ],
 "metadata": {
  "kernelspec": {
   "display_name": "Python 3",
   "language": "python",
   "name": "python3"
  },
  "language_info": {
   "codemirror_mode": {
    "name": "ipython",
    "version": 3
   },
   "file_extension": ".py",
   "mimetype": "text/x-python",
   "name": "python",
   "nbconvert_exporter": "python",
   "pygments_lexer": "ipython3",
   "version": "3.11.0"
  }
 },
 "nbformat": 4,
 "nbformat_minor": 2
}
